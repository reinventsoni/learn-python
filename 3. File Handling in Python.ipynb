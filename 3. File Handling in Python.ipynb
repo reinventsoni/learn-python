{
 "cells": [
  {
   "cell_type": "markdown",
   "id": "bbe11ee0",
   "metadata": {},
   "source": [
    "## 1. Reading File"
   ]
  },
  {
   "cell_type": "code",
   "execution_count": 14,
   "id": "c342e3c3",
   "metadata": {},
   "outputs": [
    {
     "name": "stdout",
     "output_type": "stream",
     "text": [
      "3. File Handling in Python\\data.txt\n"
     ]
    }
   ],
   "source": [
    "filename = '3. File Handling in Python\\data.txt'\n",
    "print(filename)"
   ]
  },
  {
   "cell_type": "code",
   "execution_count": 20,
   "id": "b49b9adf",
   "metadata": {},
   "outputs": [],
   "source": [
    "file_handle_1 = open(filename, 'r')"
   ]
  },
  {
   "cell_type": "markdown",
   "id": "20994646",
   "metadata": {},
   "source": [
    "There are various way the file content can be read, once the file is opened and the reference is stored in a file handle. Following are the ways that can be leveraged:\n",
    "\n",
    "* __file.readline()__ : This method reads one line at a time including the new line character i.e. /n and returns it. Each time this method is called it will return the next line in the file until the end of file is reached. Once the end of file is reached it returns an empty string. We can include this function in a while loop that can continue to read the next line until end of file is encountered, this way the whole of the file can be read and processed accordingly\n",
    "\n",
    "* __for line in file__: This mechanism is more succinct pythonic way of doing the same thing. This is a common loop that uses readline() on each iteration of the loop. If an entire file has to be read, and we need to apply same processing steps to each of the line then this is the best method to apply\n",
    "\n",
    "* __file.readlines()__: Using this method we can read the entire content of the file at once and turn it into the list of individual lines. This method returns a list with each element in the list representing one line\n",
    "\n",
    "* __file.read()__: This method read the entire content of the file and then returns that as a string. This is useful if we need to read the whole content of the file at once. In all probability we will have the process the CONTENT-STRING that is returned by this method to process the underlying data, for example splitting the string at newline character \\n to get access to individual lines\n"
   ]
  },
  {
   "cell_type": "markdown",
   "id": "65734c5c",
   "metadata": {},
   "source": [
    "### Way 1"
   ]
  },
  {
   "cell_type": "code",
   "execution_count": 21,
   "id": "643c399a",
   "metadata": {},
   "outputs": [
    {
     "data": {
      "text/plain": [
       "'Hi this is just a sample document. We will use this file to be read by Python Program\\n'"
      ]
     },
     "execution_count": 21,
     "metadata": {},
     "output_type": "execute_result"
    }
   ],
   "source": [
    "file_handle_1.readline()"
   ]
  },
  {
   "cell_type": "code",
   "execution_count": 22,
   "id": "7637d7cc",
   "metadata": {},
   "outputs": [
    {
     "data": {
      "text/plain": [
       "'We will then print each of the lines in this file using the Python Program\\n'"
      ]
     },
     "execution_count": 22,
     "metadata": {},
     "output_type": "execute_result"
    }
   ],
   "source": [
    "file_handle_1.readline()"
   ]
  },
  {
   "cell_type": "code",
   "execution_count": 23,
   "id": "1a3b5c17",
   "metadata": {},
   "outputs": [
    {
     "data": {
      "text/plain": [
       "'This is Python Line # 3\\n'"
      ]
     },
     "execution_count": 23,
     "metadata": {},
     "output_type": "execute_result"
    }
   ],
   "source": [
    "file_handle_1.readline()"
   ]
  },
  {
   "cell_type": "code",
   "execution_count": 24,
   "id": "36937271",
   "metadata": {},
   "outputs": [
    {
     "data": {
      "text/plain": [
       "'This is Line No #4 \\n'"
      ]
     },
     "execution_count": 24,
     "metadata": {},
     "output_type": "execute_result"
    }
   ],
   "source": [
    "file_handle_1.readline()"
   ]
  },
  {
   "cell_type": "code",
   "execution_count": 25,
   "id": "92e39074",
   "metadata": {},
   "outputs": [
    {
     "data": {
      "text/plain": [
       "'This is Line No #5\\n'"
      ]
     },
     "execution_count": 25,
     "metadata": {},
     "output_type": "execute_result"
    }
   ],
   "source": [
    "file_handle_1.readline()"
   ]
  },
  {
   "cell_type": "code",
   "execution_count": 26,
   "id": "19dbb82a",
   "metadata": {},
   "outputs": [
    {
     "data": {
      "text/plain": [
       "'This is Line No #6'"
      ]
     },
     "execution_count": 26,
     "metadata": {},
     "output_type": "execute_result"
    }
   ],
   "source": [
    "file_handle_1.readline()"
   ]
  },
  {
   "cell_type": "code",
   "execution_count": 27,
   "id": "563a8866",
   "metadata": {},
   "outputs": [
    {
     "data": {
      "text/plain": [
       "''"
      ]
     },
     "execution_count": 27,
     "metadata": {},
     "output_type": "execute_result"
    }
   ],
   "source": [
    "file_handle_1.readline()"
   ]
  },
  {
   "cell_type": "code",
   "execution_count": 28,
   "id": "6ff0af04",
   "metadata": {},
   "outputs": [
    {
     "data": {
      "text/plain": [
       "''"
      ]
     },
     "execution_count": 28,
     "metadata": {},
     "output_type": "execute_result"
    }
   ],
   "source": [
    "file_handle_1.readline()"
   ]
  },
  {
   "cell_type": "code",
   "execution_count": 54,
   "id": "ff37e9a9",
   "metadata": {},
   "outputs": [
    {
     "name": "stdout",
     "output_type": "stream",
     "text": [
      "Hi this is just a sample document. We will use this file to be read by Python Program\n",
      "We will then print each of the lines in this file using the Python Program\n",
      "This is Python Line # 3\n",
      "This is Line No #4 \n",
      "This is Line No #5\n",
      "This is Line No #6\n",
      "This is the new Line which I have added now"
     ]
    }
   ],
   "source": [
    "file = open(filename, 'r')\n",
    "\n",
    "not_end_of_file = True\n",
    "while(not_end_of_file):\n",
    "    line = file.readline()\n",
    "    if line == \"\":\n",
    "        not_end_of_file = False\n",
    "    else:\n",
    "        print(line, end=\"\")"
   ]
  },
  {
   "cell_type": "markdown",
   "id": "8895f45b",
   "metadata": {},
   "source": [
    "We can also use __with__ with __open__ and write little more succinct while loop"
   ]
  },
  {
   "cell_type": "markdown",
   "id": "c6731d73",
   "metadata": {},
   "source": [
    "### Way: 2 \n",
    "We can combine the file_handle.readline() with loop in a succinct Pythonic Way to achieve the same result. The below code snippet highlights this :"
   ]
  },
  {
   "cell_type": "code",
   "execution_count": 15,
   "id": "9d409c2a",
   "metadata": {},
   "outputs": [],
   "source": [
    "file_handle = open(filename, 'r')"
   ]
  },
  {
   "cell_type": "code",
   "execution_count": 16,
   "id": "7d4ed1f0",
   "metadata": {},
   "outputs": [
    {
     "name": "stdout",
     "output_type": "stream",
     "text": [
      "['Hi this is just a sample document. We will use this file to be read by Python Program\\n', 'We will then print each of the lines in this file using the Python Program\\n', 'This is Python Line # 3\\n', 'This is Line No #4 \\n', 'This is Line No #5\\n', 'This is Line No #6']\n"
     ]
    }
   ],
   "source": [
    "file_lines = []\n",
    "for line in file_handle:\n",
    "    file_lines.append(line)\n",
    "print(file_lines)"
   ]
  },
  {
   "cell_type": "markdown",
   "id": "bb4ed632",
   "metadata": {},
   "source": [
    "### Way 3"
   ]
  },
  {
   "cell_type": "code",
   "execution_count": 30,
   "id": "7d48af50",
   "metadata": {},
   "outputs": [
    {
     "name": "stdout",
     "output_type": "stream",
     "text": [
      "['Hi this is just a sample document. We will use this file to be read by Python Program\\n', 'We will then print each of the lines in this file using the Python Program\\n', 'This is Python Line # 3\\n', 'This is Line No #4 \\n', 'This is Line No #5\\n', 'This is Line No #6']\n"
     ]
    }
   ],
   "source": [
    "file = open(filename,'r')\n",
    "file_lines = file.readlines()\n",
    "print(file_lines)"
   ]
  },
  {
   "cell_type": "markdown",
   "id": "72967090",
   "metadata": {},
   "source": [
    "### Way 4"
   ]
  },
  {
   "cell_type": "code",
   "execution_count": 32,
   "id": "795240e4",
   "metadata": {},
   "outputs": [
    {
     "name": "stdout",
     "output_type": "stream",
     "text": [
      "Hi this is just a sample document. We will use this file to be read by Python Program\n",
      "We will then print each of the lines in this file using the Python Program\n",
      "This is Python Line # 3\n",
      "This is Line No #4 \n",
      "This is Line No #5\n",
      "This is Line No #6\n",
      "This is the new Line which I have added now\n"
     ]
    }
   ],
   "source": [
    "file = open(filename,'r')\n",
    "content = file.read()\n",
    "print(content)"
   ]
  },
  {
   "cell_type": "markdown",
   "id": "8ce552c2",
   "metadata": {},
   "source": [
    "# 2. Write to a File"
   ]
  },
  {
   "cell_type": "markdown",
   "id": "dd24b2af",
   "metadata": {},
   "source": [
    "Writing to a file will follow the similar approach. We need to open the file using the function __open()__, and need to make sure that the mode in which file is opened allows for writing the content into the file. And then we can use the method __write()__ on the file handle object and pass the content to be written as a string parameter to the write method.\n",
    "\n",
    "Following are the steps to be followed:\n",
    "* If your file is already opened, ensure it is open in a mode that allows for writing.\n",
    "* If your file has yet to be opened, open with 'w' or a mode with '+' in it.\n",
    "* Make sure that the content you want to write is converted into the string format.\n",
    "* Use the command __file.write(string_content)__ to write the content to the file\n",
    "* Finally close the file after writing, with the command __file.close()__"
   ]
  },
  {
   "cell_type": "code",
   "execution_count": 49,
   "id": "d75a8972",
   "metadata": {},
   "outputs": [],
   "source": [
    "output_file = '3. File Handling in Python\\python_write.txt'"
   ]
  },
  {
   "cell_type": "code",
   "execution_count": 50,
   "id": "6e66a55c",
   "metadata": {},
   "outputs": [],
   "source": [
    "line1 = \"Hi! this is Sanjay\\n\"\n",
    "line2 = \"Hi! this is Sanjay again on Line 2\\n\"\n",
    "line3 = \"He HE!! I must be joking. This is Sanjay again on Line 3\\n\""
   ]
  },
  {
   "cell_type": "code",
   "execution_count": 51,
   "id": "d2869e66",
   "metadata": {},
   "outputs": [],
   "source": [
    "file_write = open(output_file, 'a')"
   ]
  },
  {
   "cell_type": "code",
   "execution_count": 52,
   "id": "79446a3a",
   "metadata": {},
   "outputs": [
    {
     "data": {
      "text/plain": [
       "57"
      ]
     },
     "execution_count": 52,
     "metadata": {},
     "output_type": "execute_result"
    }
   ],
   "source": [
    "file_write.write(line1)\n",
    "file_write.write(line2)\n",
    "file_write.write(line3)"
   ]
  },
  {
   "cell_type": "code",
   "execution_count": 53,
   "id": "eb4d3a4c",
   "metadata": {},
   "outputs": [],
   "source": [
    "file.close()"
   ]
  },
  {
   "cell_type": "markdown",
   "id": "324db226",
   "metadata": {},
   "source": [
    "# 3. urllib() and urlwrite()"
   ]
  },
  {
   "cell_type": "code",
   "execution_count": null,
   "id": "6ce0a3c2",
   "metadata": {},
   "outputs": [],
   "source": []
  }
 ],
 "metadata": {
  "kernelspec": {
   "display_name": "Python 3 (ipykernel)",
   "language": "python",
   "name": "python3"
  },
  "language_info": {
   "codemirror_mode": {
    "name": "ipython",
    "version": 3
   },
   "file_extension": ".py",
   "mimetype": "text/x-python",
   "name": "python",
   "nbconvert_exporter": "python",
   "pygments_lexer": "ipython3",
   "version": "3.11.3"
  }
 },
 "nbformat": 4,
 "nbformat_minor": 5
}
