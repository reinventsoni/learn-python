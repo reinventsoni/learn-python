{
 "cells": [
  {
   "cell_type": "markdown",
   "id": "807a3ac0",
   "metadata": {},
   "source": [
    "# Object Oriented Programming in Python\n",
    "In this notebook we will understand the concepts of object oriented programming and how these can be implemented in Python"
   ]
  },
  {
   "cell_type": "markdown",
   "id": "6dba6ea3",
   "metadata": {},
   "source": [
    "## 1. Introduction\n",
    "\n",
    "There are various programming paradigms which has evolved over the course of time, and Object Oriented Programming is one of the prevelant ones. Object Oriented Programming looks to reduce the complexity of the software development and provide structure to complex application by breaking them into individual entities, referred to as __Objects.__  These objects group a related set of information, referred to as __attributes__ and the actions that can be taken on the attirbutes, these actions are referred to __methods.__\n",
    "\n",
    "Python supports Object Oriented Programming pardigm. It relies on\n",
    "* CLASSES -> to define the blueprint of what the Object should look like i.e., what attributes and what methods should be grouped together for that object\n",
    "* We then use this blueprint to create the actual Object -> this step is referred to as instantiate the object (from the defined class)\n",
    "\n",
    "Infact, under the hood, everything in Python is an Object. The primitive datatypes like __integer__, __string__, __float__, as well as various collections like __list__, __tuple__, __dictionary__ are implemented as \"default, readily available\" class for us programmers to use.\n",
    "\n",
    "Now whilst Python provides standard OBJECTS for us to use as fundamental building blocks to write our software, more often then not we have to define our own CLASSES to bring structure to the program that we are going to write as a programmer. Let's see how we can define our own CLASS and create our own OBJECT in the programs."
   ]
  },
  {
   "cell_type": "markdown",
   "id": "941ccda9",
   "metadata": {},
   "source": [
    "## 2. User Defined Classes"
   ]
  },
  {
   "cell_type": "markdown",
   "id": "d2794a59",
   "metadata": {},
   "source": [
    "Let's consider a scenario where we need to represent POINT in two dimension in our program. As we all know that in 2-dimension space a point has two coordinates associated with it and is represented as (x,y) where x is the x-coordinate and y is y-coordinate. \n",
    "\n",
    "__Please note we are keeping this example simple so as to understand the concepts clearly.__  So let's not go in the direction of  -> \"I can use List of Tuples to represent various points in the 2-dimensional plane as required by my program. And I can write all sort of procedures to act on these points.\" I would suggest let's first bed down the object oriented programming concepts and how can they be implemented in Python with this simple example. As we progress we will encounter various scenarios which are more complex and where implementing them with OOPs will make sense.\n",
    "\n",
    "So coming back to example of a POINT in 2-D space, let's understand\n",
    "* What information we need to store for a point, and\n",
    "* What actions can be taken on the infomration stored for this point.\n",
    "\n",
    "As is clear that we need to store two values: the __x-coordinate__ and the __y-coordinate__ for that point. We store this information by defing two __attributes__ for our Point class. \n",
    "\n",
    "Let's park the actions for a moment and let's see how we can define the class __Point__ and how can we store the attributes __x-coordinate__ and __y-coordinates__ for it"
   ]
  },
  {
   "cell_type": "markdown",
   "id": "6f7f3799",
   "metadata": {},
   "source": [
    "### 2.1 The class keyword\n",
    "We define the class for an object by using the keyword __class__, and our first class definition for Point will look as follows:\n",
    "\n",
    "__TODO: Add notes regarding the nomenclature of syntax__"
   ]
  },
  {
   "cell_type": "code",
   "execution_count": 1,
   "id": "3f97e074",
   "metadata": {},
   "outputs": [],
   "source": [
    "#Defining class Point\n",
    "class Point:\n",
    "    \"\"\"\n",
    "    Point class to store the x and y coordinate of Point, and various point \n",
    "    based calculations\n",
    "    \"\"\"\n",
    "    \n",
    "    def __init__(self):\n",
    "        \"\"\"\n",
    "        Create a new point at Origin\n",
    "        \"\"\"\n",
    "        self.x_coord = 0\n",
    "        self.y_coord = 0\n",
    "    "
   ]
  },
  {
   "cell_type": "markdown",
   "id": "c7ba877c",
   "metadata": {},
   "source": [
    "### 2.2 constructor __init__ method\n",
    "\n",
    "When we define a class, we should also specify the initializer method of the class also referred to as __constructor__. The constructor is automatically called whenever a new instance of the __Point__ class is created. So using constructors we can set the initial state of the object by passing the initial values of the attributes for that object. These values can than be stored in the instance variables of the object by initialized them in the constructor method.\n",
    "\n",
    "The __self__ parameter name is used a convention and this will automatically hold the refernce to the object that has been instantiated, that way the constructor acts on the instantiated object itself\n",
    "\n",
    "__NOTE:__ It is not mandatory to explicity code the init method, but some initializer method will be called when the object is instantiated. If no initializer method is specified for that class than its parents initializer method will be called. We will understand about __Inheritence__ in further details later"
   ]
  },
  {
   "cell_type": "markdown",
   "id": "b15567ef",
   "metadata": {},
   "source": [
    "### 2.3 Instantiate the Object\n",
    "\n",
    "To instantiate the object we call the Class and store the reference in a variable. Following example highlights the process:"
   ]
  },
  {
   "cell_type": "code",
   "execution_count": 2,
   "id": "57c0bdae",
   "metadata": {},
   "outputs": [],
   "source": [
    "point_p = Point()\n",
    "point_q = Point()"
   ]
  },
  {
   "cell_type": "markdown",
   "id": "ed5b3c41",
   "metadata": {},
   "source": [
    "Well nothing seems to happen by above code declaration. And the reason for that is, this is how our class has been implemented. In the constructor method we are setting the values of the instance variables x and y to value 0, as such all the instances of this class will have the same value of x and y.\n",
    "\n",
    "We can check that as per below code snippet."
   ]
  },
  {
   "cell_type": "code",
   "execution_count": 4,
   "id": "e5d8dc7b",
   "metadata": {},
   "outputs": [
    {
     "name": "stdout",
     "output_type": "stream",
     "text": [
      "The x and y coordinates for point P are: 0, 0\n",
      "The x and y coordinates for point Q are: 0, 0\n"
     ]
    }
   ],
   "source": [
    "print(f\"The x and y coordinates for point P are: {point_p.x_coord}, {point_p.y_coord}\")\n",
    "print(f\"The x and y coordinates for point Q are: {point_q.x_coord}, {point_q.y_coord}\")"
   ]
  },
  {
   "cell_type": "markdown",
   "id": "2e31a672",
   "metadata": {},
   "source": [
    "If you observe both the points P and Q have the same values of x and y coordinates stored in them. We can change this behaviour by passing the x and y coordinates at the time of creating this object (i.e. instanting these objects) and adjusting the constructore method to store the passed values in the instance variables.\n",
    "\n",
    "Also observe that to access the value stored in the instance variable we have used the DOT NOTATION to refer to the instance variable defined in the class. So the convention is:\n",
    "\n",
    "__<object_reference> . <instance_variable_name>__\n",
    "\n"
   ]
  },
  {
   "cell_type": "markdown",
   "id": "6d434622",
   "metadata": {},
   "source": [
    "### 2.4 Add parameters to constructor\n",
    "Let's now update the constructor to store the x and y coordinates at the time of instantiation. The revised class definiton will look as follows, we have just added print statements for verbose purposes so that we can see what is happening when the class is instantiated"
   ]
  },
  {
   "cell_type": "code",
   "execution_count": 9,
   "id": "2787bddf",
   "metadata": {},
   "outputs": [],
   "source": [
    "#Revised class Point\n",
    "class Point:\n",
    "    \"\"\"\n",
    "    Point class to store the x and y coordinate of Point, and various point \n",
    "    based calculations\n",
    "    \"\"\"\n",
    "    \n",
    "    def __init__(self, x, y):\n",
    "        \"\"\"\n",
    "        Create a new point at Origin\n",
    "        \"\"\"\n",
    "        self.x_coord = x\n",
    "        self.y_coord = y\n",
    "        print(f\"A new object of type Point has been created and stored at {id(self)}.\")\n",
    "        print(f\"The values of x and y coordinates are: {self.x_coord}, {self.y_coord}\")\n"
   ]
  },
  {
   "cell_type": "code",
   "execution_count": 10,
   "id": "a4d8e44c",
   "metadata": {},
   "outputs": [
    {
     "name": "stdout",
     "output_type": "stream",
     "text": [
      "A new object of type Point has been created and stored at 2741659256016.\n",
      "The values of x and y coordinates are: 3, 4\n"
     ]
    }
   ],
   "source": [
    "p = Point(3,4)"
   ]
  },
  {
   "cell_type": "code",
   "execution_count": 11,
   "id": "a5dec51d",
   "metadata": {},
   "outputs": [
    {
     "name": "stdout",
     "output_type": "stream",
     "text": [
      "A new object of type Point has been created and stored at 2741672970384.\n",
      "The values of x and y coordinates are: 4, 5\n"
     ]
    }
   ],
   "source": [
    "q = Point(4,5)"
   ]
  },
  {
   "cell_type": "markdown",
   "id": "d497c995",
   "metadata": {},
   "source": [
    "Observe that the values of x and y coordinates are different for the two points that has been created. Also observe that the memory address which the variables p and q refers to are different, which means that these are two different Point objects stored at seperate memory location"
   ]
  },
  {
   "cell_type": "markdown",
   "id": "2ceadea0",
   "metadata": {},
   "source": [
    "### 2.5 Adding \"methods\" to a Class\n"
   ]
  },
  {
   "cell_type": "markdown",
   "id": "9ac50311",
   "metadata": {},
   "source": [
    "So far we have seen an example of special method applicable for classes, i.e. constructor also referred to as initializer method. If you observe the syntax properly, it follows the similar nomenclature as that of function definition.\n",
    "\n",
    "In a way methods are functions, but these are only available at the level of instances of objects or in other words, they can be invoked on a specific instance. \n",
    "\n",
    "Earlier when we described Object we mentioned that Object is collection of information (attributes) and the actions that can be taken on the attributes. The action is defined as functions within the class definition, and are referred to as __methods__ of that object. These __methods__ are able to access and modify the __state__ of the object i.e. the instance variables of that object.\n",
    "\n",
    "Consider our example of class Point, at a basic level we can perform following two operations on any point in a 2 dimension:\n",
    "* Distance from Origin, which is point (0,0)\n",
    "* Distance from Another Points (x1, y1)\n",
    "\n",
    "And these two operations can be defined as the __methods__ associated with the Object of type point. The implementation of these methods will be pretty straightforward as we already know how to write functions that return values and accept parameters. Couple of things to note will be :\n",
    "* All the methods defined in a class and that operate on objects of that class, will have \"self\" as their first parameter. This parameter serves as a reference to the object itself, which in turn gives access to the state of the object\n",
    "* For the second action of calculating the distance from another point we will have to pass the definition of other point as a parameter to the function. We can actually define another Object as a method argument and pass the instance of the object as a Parameter.\n",
    "* Extending the above approach we also need to have a way to access the X and Y coordinates of the passed object. As a practice, for various instance variables of a class we also defined the __GETTER__ and __SETTER__ functions, which as used to access the values of the state, and set the values for the state"
   ]
  },
  {
   "cell_type": "markdown",
   "id": "2f043b88",
   "metadata": {},
   "source": [
    "Lets now add the __GETTER__ functions in our Point class. We will add two methods - getX and getY that will return the value of X and Y coordinates of the object. Observer that we don't need to pass any parameters to these methods, the only default parameter will be __self__ as the getX and getY methods will be invoked by the respective objects"
   ]
  },
  {
   "cell_type": "code",
   "execution_count": 2,
   "id": "98de0035",
   "metadata": {},
   "outputs": [],
   "source": [
    "#Revised class Point\n",
    "class Point:\n",
    "    \"\"\"\n",
    "    Point class to store the x and y coordinate of Point, and various point \n",
    "    based calculations\n",
    "    \"\"\"\n",
    "    \n",
    "    def __init__(self, x, y):\n",
    "        \"\"\"\n",
    "        Create a new point at Origin\n",
    "        \"\"\"\n",
    "        self.x_coord = x\n",
    "        self.y_coord = y\n",
    "        print(f\"A new object of type Point has been created and stored at {id(self)}.\")\n",
    "        print(f\"The values of x and y coordinates are: {self.x_coord}, {self.y_coord}\")\n",
    "        \n",
    "    \n",
    "    def getX(self):\n",
    "        \"\"\"\n",
    "        Return the value of the x coordinate\n",
    "        \"\"\"\n",
    "        return self.x_coord\n",
    "    \n",
    "    def getY(self):\n",
    "        \"\"\"\n",
    "        Return the value of the y coordinate\n",
    "        \"\"\"\n",
    "        return self.y_coord\n"
   ]
  },
  {
   "cell_type": "markdown",
   "id": "87976742",
   "metadata": {},
   "source": [
    "Now that we have updated the class definition, question comes how to invoke the methods. And the answer to that is pretty simple and intuitive. We use DOT NOTATION to invoke the method on a particular object. Let's see this in example in the code snippet below. Here we will define a new point say (7,2) and will then use the getter methods on the instance of the object to access to state of the object i.e. the X-coordinate and Y-coordinate respectively"
   ]
  },
  {
   "cell_type": "code",
   "execution_count": 4,
   "id": "89205c91",
   "metadata": {},
   "outputs": [
    {
     "name": "stdout",
     "output_type": "stream",
     "text": [
      "A new object of type Point has been created and stored at 2767898910032.\n",
      "The values of x and y coordinates are: 7, 2\n",
      "The x and y coordinates for newPoint (7,2) are: 7, 2 respectively\n"
     ]
    }
   ],
   "source": [
    "newPoint = Point(7,2) #Instantiate new object with the values 7,2\n",
    "newPoint_x = newPoint.getX() #Invoke method getX on the object\n",
    "newPoint_y = newPoint.getY() #Invoke method getY on the object\n",
    "\n",
    "print(f\"The x and y coordinates for newPoint (7,2) are: {newPoint_x}, {newPoint_y} respectively\")"
   ]
  },
  {
   "cell_type": "markdown",
   "id": "bf6f881b",
   "metadata": {},
   "source": [
    "Lets now extend the class further and add a new method to measure the distance from Origin. The process will be exactly the same as that for __getX__ and __getY__."
   ]
  },
  {
   "cell_type": "code",
   "execution_count": 7,
   "id": "2dccfe77",
   "metadata": {},
   "outputs": [],
   "source": [
    "#Revised class Point\n",
    "class Point:\n",
    "    \"\"\"\n",
    "    Point class to store the x and y coordinate of Point, and various point \n",
    "    based calculations\n",
    "    \"\"\"\n",
    "    \n",
    "    def __init__(self, x, y):\n",
    "        \"\"\"\n",
    "        Create a new point at Origin\n",
    "        \"\"\"\n",
    "        self.x_coord = x\n",
    "        self.y_coord = y\n",
    "        print(f\"A new object of type Point has been created and stored at {id(self)}.\")\n",
    "        print(f\"The values of x and y coordinates are: {self.x_coord}, {self.y_coord}\")\n",
    "        \n",
    "    \n",
    "    def getX(self):\n",
    "        \"\"\"\n",
    "        Return the value of the x coordinate\n",
    "        \"\"\"\n",
    "        return self.x_coord\n",
    "    \n",
    "    def getY(self):\n",
    "        \"\"\"\n",
    "        Return the value of the y coordinate\n",
    "        \"\"\"\n",
    "        return self.y_coord\n",
    "    \n",
    "    def getDistanceFromOrigin(self):\n",
    "        \"\"\"\n",
    "        Return the distance from Origin\n",
    "        \"\"\"\n",
    "        return ((self.x_coord ** 2) + (self.y_coord **2))** 0.5\n"
   ]
  },
  {
   "cell_type": "markdown",
   "id": "0788709c",
   "metadata": {},
   "source": [
    "And lets now use the updated the class definition and access the new method to measure the distance from the origin."
   ]
  },
  {
   "cell_type": "code",
   "execution_count": 13,
   "id": "df84c992",
   "metadata": {},
   "outputs": [
    {
     "name": "stdout",
     "output_type": "stream",
     "text": [
      "A new object of type Point has been created and stored at 2767898900560.\n",
      "The values of x and y coordinates are: 2, 4\n",
      "The x and y coordinates for newP (2,4) are: 2, 4 respectively\n",
      "The distance of point newP(2,4) from origin is: 4.47\n"
     ]
    }
   ],
   "source": [
    "newP = Point(2,4)#Instantiate new object with the values 2,4\n",
    "newP_x = newP.getX() #Invoke method getX on the object\n",
    "newP_y = newP.getY() #Invoke method getY on the object\n",
    "newP_dist_from_origin = newP.getDistanceFromOrigin()\n",
    "\n",
    "print(f\"The x and y coordinates for newP (2,4) are: {newP_x}, {newP_y} respectively\")\n",
    "print(f\"The distance of point newP(2,4) from origin is: {newP_dist_from_origin:0.2f}\")"
   ]
  },
  {
   "cell_type": "markdown",
   "id": "b2cc5fb1",
   "metadata": {},
   "source": [
    "### 2.6 Objects as Arguments and Parameters"
   ]
  },
  {
   "cell_type": "markdown",
   "id": "538bdacd",
   "metadata": {},
   "source": [
    "As we discussed in the previous section one of the action which we can take on the Point object, is to measure the distance of this point object with another point object. There are two way we can achieve this:\n",
    "* We can define a function in which we pass the two Point object as a parameter, and this function can calculate the distance using the mathemtical formula on the respecitve x and y coordinates.\n",
    "\n",
    "* We can also define a method on the class, in which we will pass another Point Object as a parameter, access the x and y instance values of the passed object and applying the distance formula on the two x and y coordinate values we have.\n",
    "\n",
    "Just for the demonstration purpose let's go with the second approach. In the method definition first parameter will be __self__, and the second parameter will be the object of type point itself. \n",
    "\n",
    "Let's revise our class definition to see this in action:"
   ]
  },
  {
   "cell_type": "code",
   "execution_count": 19,
   "id": "5242b4c9",
   "metadata": {},
   "outputs": [],
   "source": [
    "import math\n",
    "\n",
    "class Point:\n",
    "    \"\"\"\n",
    "    Point class to store the x and y coordinate of Point, and various point \n",
    "    based calculations\n",
    "    \"\"\"\n",
    "    \n",
    "    def __init__(self, x, y):\n",
    "        \"\"\"\n",
    "        Create a new point at Origin\n",
    "        \"\"\"\n",
    "        self.x_coord = x\n",
    "        self.y_coord = y\n",
    "      \n",
    "    \n",
    "    def getX(self):\n",
    "        \"\"\"\n",
    "        Return the value of the x coordinate\n",
    "        \"\"\"\n",
    "        return self.x_coord\n",
    "    \n",
    "    def getY(self):\n",
    "        \"\"\"\n",
    "        Return the value of the y coordinate\n",
    "        \"\"\"\n",
    "        return self.y_coord\n",
    "    \n",
    "    def getDistanceFromOrigin(self):\n",
    "        \"\"\"\n",
    "        Return the distance from Origin\n",
    "        \"\"\"\n",
    "        return ((self.x_coord ** 2) + (self.y_coord **2))** 0.5\n",
    "    \n",
    "    def getDistanceFromPoint(self, point2):\n",
    "        \"\"\"\n",
    "        Calculate the distance between the current point and point2\n",
    "        \"\"\"\n",
    "        x_diff = self.getX() - point2.getX()\n",
    "        y_diff = self.getY() - point2.getY()\n",
    "        \n",
    "        distance = math.sqrt(x_diff **2 + y_diff**2)\n",
    "        return distance\n"
   ]
  },
  {
   "cell_type": "code",
   "execution_count": 22,
   "id": "48cfd3e2",
   "metadata": {},
   "outputs": [
    {
     "name": "stdout",
     "output_type": "stream",
     "text": [
      "Distance of p(2,4) from origin(0,0) is 4.47\n",
      "Distance of q(7,3) from origin(0,0) is 7.62\n"
     ]
    }
   ],
   "source": [
    "p = Point(2,4)\n",
    "q = Point(7,3)\n",
    "origin = Point(0,0)\n",
    "\n",
    "print(f\"Distance of p(2,4) from origin(0,0) is {origin.getDistanceFromPoint(p):0.2f}\")\n",
    "print(f\"Distance of q(7,3) from origin(0,0) is {origin.getDistanceFromPoint(q):0.2f}\")"
   ]
  },
  {
   "cell_type": "markdown",
   "id": "fc22e6a2",
   "metadata": {},
   "source": [
    "### 2.7 Object Instance as Return Values"
   ]
  },
  {
   "cell_type": "markdown",
   "id": "2d85e37b",
   "metadata": {},
   "source": [
    "Like functions, methods can return Objects. This is apparent, since everything in Python is an object we have seen many functions returing various values. On the same lines we can write a class method which can return an object of that user defined class.\n",
    "\n",
    "Let's add additional functionality to our Point class, where we define a method getHalfwayPoint, this method takes another Point object as a parameter and return a Point object which is halfway between the two points.\n",
    "\n",
    "The following code snippet implements this feature:"
   ]
  },
  {
   "cell_type": "code",
   "execution_count": 23,
   "id": "8b3be4b0",
   "metadata": {},
   "outputs": [],
   "source": [
    "import math\n",
    "\n",
    "class Point:\n",
    "    \"\"\"\n",
    "    Point class to store the x and y coordinate of Point, and various point \n",
    "    based calculations\n",
    "    \"\"\"\n",
    "    \n",
    "    def __init__(self, x, y):\n",
    "        \"\"\"\n",
    "        Create a new point at Origin\n",
    "        \"\"\"\n",
    "        self.x_coord = x\n",
    "        self.y_coord = y\n",
    "      \n",
    "    \n",
    "    def getX(self):\n",
    "        \"\"\"\n",
    "        Return the value of the x coordinate\n",
    "        \"\"\"\n",
    "        return self.x_coord\n",
    "    \n",
    "    def getY(self):\n",
    "        \"\"\"\n",
    "        Return the value of the y coordinate\n",
    "        \"\"\"\n",
    "        return self.y_coord\n",
    "    \n",
    "    def getDistanceFromOrigin(self):\n",
    "        \"\"\"\n",
    "        Return the distance from Origin\n",
    "        \"\"\"\n",
    "        return ((self.x_coord ** 2) + (self.y_coord **2))** 0.5\n",
    "    \n",
    "    def getDistanceFromPoint(self, point2):\n",
    "        \"\"\"\n",
    "        Calculate the distance between the current point and point2\n",
    "        \"\"\"\n",
    "        x_diff = self.getX() - point2.getX()\n",
    "        y_diff = self.getY() - point2.getY()\n",
    "        \n",
    "        distance = math.sqrt(x_diff **2 + y_diff**2)\n",
    "        return distance\n",
    "    \n",
    "    def getHalfwayPoint(self, point2):\n",
    "        \"\"\"\n",
    "        Return the point halfway between current point and point 2\n",
    "        \"\"\"\n",
    "        mx = (self.x_coord + point2.x_coord) / 2\n",
    "        my = (self.y_coord + point2.y_coord) / 2\n",
    "        \n",
    "        return Point(mx,my)"
   ]
  },
  {
   "cell_type": "code",
   "execution_count": 24,
   "id": "a1a9e295",
   "metadata": {},
   "outputs": [
    {
     "name": "stdout",
     "output_type": "stream",
     "text": [
      "The halfway point between p(2,4) and origin(0,0) is (1.0,2.0)\n"
     ]
    }
   ],
   "source": [
    "p = Point(2,4)\n",
    "origin = Point(0,0)\n",
    "halfway = origin.getHalfwayPoint(p)\n",
    "\n",
    "print(f\"The halfway point between p(2,4) and origin(0,0) is ({halfway.getX()},{halfway.getY()})\")"
   ]
  },
  {
   "cell_type": "markdown",
   "id": "26447bf0",
   "metadata": {},
   "source": [
    "### 2.8 Passing Object to print function() and __str()__ method"
   ]
  },
  {
   "cell_type": "markdown",
   "id": "cc7612ac",
   "metadata": {},
   "source": [
    "We have seen that different objects behave slightly differently when we pass them to print function. For e.g. in the below code snippet we are passing an integer, list and string to print function, and as you can see the print output is dependent on the type of the object which we are passing"
   ]
  },
  {
   "cell_type": "code",
   "execution_count": 25,
   "id": "9ec5ee56",
   "metadata": {},
   "outputs": [
    {
     "name": "stdout",
     "output_type": "stream",
     "text": [
      "Sam\n",
      "10\n",
      "[1, 2, 3, 4, 5]\n"
     ]
    }
   ],
   "source": [
    "s = \"Sam\"\n",
    "a = 10\n",
    "l = [1,2,3,4,5]\n",
    "\n",
    "print(s)\n",
    "print(a)\n",
    "print(l)"
   ]
  },
  {
   "cell_type": "markdown",
   "id": "ae361491",
   "metadata": {},
   "source": [
    "Lets now see what happens when we pass our Point object to the print function"
   ]
  },
  {
   "cell_type": "code",
   "execution_count": 26,
   "id": "68b444d2",
   "metadata": {},
   "outputs": [
    {
     "name": "stdout",
     "output_type": "stream",
     "text": [
      "<__main__.Point object at 0x0000028473FAC1D0>\n"
     ]
    }
   ],
   "source": [
    "origin = Point(0,0)\n",
    "print(origin)"
   ]
  },
  {
   "cell_type": "markdown",
   "id": "b43f1cbb",
   "metadata": {},
   "source": [
    "And as you can see the print outputs some cryptic representation of where the Point object is stored. We can control this behavior by overriding another special method which all the objects have, and this function is __str()__. We can define a schematic and contextual representation of what information should be printed when we pass the object as a parameter to print function.\n",
    "\n",
    "Lets update our Point class, and lets see how the print function behaves after the update\n"
   ]
  },
  {
   "cell_type": "code",
   "execution_count": 27,
   "id": "3ea4ec8c",
   "metadata": {},
   "outputs": [],
   "source": [
    "class Point:\n",
    "    \"\"\"\n",
    "    Point class to store the x and y coordinate of Point, and various point \n",
    "    based calculations\n",
    "    \"\"\"\n",
    "    \n",
    "    def __init__(self, x, y):\n",
    "        \"\"\"\n",
    "        Create a new point at Origin\n",
    "        \"\"\"\n",
    "        self.x_coord = x\n",
    "        self.y_coord = y\n",
    "    \n",
    "    \n",
    "    def __str__(self):\n",
    "        return f\"x={self.x_coord}, y = {self.y_coord}\"\n",
    "      \n",
    "    \n",
    "    def getX(self):\n",
    "        \"\"\"\n",
    "        Return the value of the x coordinate\n",
    "        \"\"\"\n",
    "        return self.x_coord\n",
    "    \n",
    "    def getY(self):\n",
    "        \"\"\"\n",
    "        Return the value of the y coordinate\n",
    "        \"\"\"\n",
    "        return self.y_coord\n",
    "    \n",
    "    def getDistanceFromOrigin(self):\n",
    "        \"\"\"\n",
    "        Return the distance from Origin\n",
    "        \"\"\"\n",
    "        return ((self.x_coord ** 2) + (self.y_coord **2))** 0.5\n",
    "    \n",
    "    def getDistanceFromPoint(self, point2):\n",
    "        \"\"\"\n",
    "        Calculate the distance between the current point and point2\n",
    "        \"\"\"\n",
    "        x_diff = self.getX() - point2.getX()\n",
    "        y_diff = self.getY() - point2.getY()\n",
    "        \n",
    "        distance = math.sqrt(x_diff **2 + y_diff**2)\n",
    "        return distance\n",
    "    \n",
    "    def getHalfwayPoint(self, point2):\n",
    "        \"\"\"\n",
    "        Return the point halfway between current point and point 2\n",
    "        \"\"\"\n",
    "        mx = (self.x_coord + point2.x_coord) / 2\n",
    "        my = (self.y_coord + point2.y_coord) / 2\n",
    "        \n",
    "        return Point(mx,my)"
   ]
  },
  {
   "cell_type": "code",
   "execution_count": 28,
   "id": "fe140dd6",
   "metadata": {},
   "outputs": [
    {
     "name": "stdout",
     "output_type": "stream",
     "text": [
      "x=0, y = 0\n"
     ]
    }
   ],
   "source": [
    "origin = Point(0,0)\n",
    "print(origin)"
   ]
  },
  {
   "cell_type": "markdown",
   "id": "e1c3b9b9",
   "metadata": {},
   "source": [
    "And as you can see this string representation of Object makes much more sense in the context of the Point object.  There are various such __special__ methods available to us in case of User Defined Objects, using which we can override some of the features of the object. \n",
    "\n",
    "This category of methods is known as __magic methods__ or __special name methods__, using which we can override various object related operations. We will explore some of the magic methods in later sections"
   ]
  },
  {
   "cell_type": "markdown",
   "id": "21873f55",
   "metadata": {},
   "source": [
    "### 2.9 Class Variables"
   ]
  },
  {
   "cell_type": "markdown",
   "id": "f2eaceb8",
   "metadata": {},
   "source": [
    "### 2.10 Magic Methods, Special Name Methods"
   ]
  },
  {
   "cell_type": "code",
   "execution_count": null,
   "id": "87c1d7bb",
   "metadata": {},
   "outputs": [],
   "source": []
  }
 ],
 "metadata": {
  "kernelspec": {
   "display_name": "Python 3 (ipykernel)",
   "language": "python",
   "name": "python3"
  },
  "language_info": {
   "codemirror_mode": {
    "name": "ipython",
    "version": 3
   },
   "file_extension": ".py",
   "mimetype": "text/x-python",
   "name": "python",
   "nbconvert_exporter": "python",
   "pygments_lexer": "ipython3",
   "version": "3.11.3"
  }
 },
 "nbformat": 4,
 "nbformat_minor": 5
}
