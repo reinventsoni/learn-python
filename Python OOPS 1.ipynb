{
 "cells": [
  {
   "cell_type": "markdown",
   "id": "807a3ac0",
   "metadata": {},
   "source": [
    "# Object Oriented Programming in Python\n",
    "In this notebook we will understand the concepts of object oriented programming and how these can be implemented in Python"
   ]
  },
  {
   "cell_type": "markdown",
   "id": "6dba6ea3",
   "metadata": {},
   "source": [
    "## 1. Introduction\n",
    "\n",
    "There are various programming paradigms which has evolved over the course of time, and Object Oriented Programming is one of the prevelant ones. Object Oriented Programming looks to reduce the complexity of the software development and provide structure to complex application by breaking them into individual entities, referred to as __Objects.__  These objects group a related set of information, referred to as __attributes__ and the actions that can be taken on the attirbutes, these actions are referred to __methods.__\n",
    "\n",
    "Python supports Object Oriented Programming pardigm. It relies on\n",
    "* CLASSES -> to define the blueprint of what the Object should look like i.e., what attributes and what methods should be grouped together for that object\n",
    "* We then use this blueprint to create the actual Object -> this step is referred to as instantiate the object (from the defined class)\n",
    "\n",
    "Infact, under the hood, everything in Python is an Object. The primitive datatypes like __integer__, __string__, __float__, as well as various collections like __list__, __tuple__, __dictionary__ are implemented as \"default, readily available\" class for us programmers to use.\n",
    "\n",
    "Now whilst Python provides standard OBJECTS for us to use as fundamental building blocks to write our software, more often then not we have to define our own CLASSES to bring structure to the program that we are going to write as a programmer. Let's see how we can define our own CLASS and create our own OBJECT in the programs."
   ]
  },
  {
   "cell_type": "markdown",
   "id": "941ccda9",
   "metadata": {},
   "source": [
    "## 2. User Defined Classes"
   ]
  },
  {
   "cell_type": "markdown",
   "id": "d2794a59",
   "metadata": {},
   "source": [
    "Let's consider a scenario where we need to represent POINT in two dimension in our program. As we all know that in 2-dimension space a point has two coordinates associated with it and is represented as (x,y) where x is the x-coordinate and y is y-coordinate. \n",
    "\n",
    "__Please note we are keeping this example simple so as to understand the concepts clearly.__  So let's not go in the direction of  -> \"I can use List of Tuples to represent various points in the 2-dimensional plane as required by my program. And I can write all sort of procedures to act on these points.\" I would suggest let's first bed down the object oriented programming concepts and how can they be implemented in Python with this simple example. As we progress we will encounter various scenarios which are more complex and where implementing them with OOPs will make sense.\n",
    "\n",
    "So coming back to example of a POINT in 2-D space, let's understand\n",
    "* What information we need to store for a point, and\n",
    "* What actions can be taken on the infomration stored for this point.\n",
    "\n",
    "As is clear that we need to store two values: the __x-coordinate__ and the __y-coordinate__ for that point. We store this information by defing two __attributes__ for our Point class. \n",
    "\n",
    "Let's park the actions for a moment and let's see how we can define the class __Point__ and how can we store the attributes __x-coordinate__ and __y-coordinates__ for it"
   ]
  },
  {
   "cell_type": "markdown",
   "id": "6f7f3799",
   "metadata": {},
   "source": [
    "### 2.1 The class keyword\n",
    "We define the class for an object by using the keyword __class__, and our first class definition for Point will look as follows:\n",
    "\n",
    "__TODO: Add notes regarding the nomenclature of syntax__"
   ]
  },
  {
   "cell_type": "code",
   "execution_count": 1,
   "id": "3f97e074",
   "metadata": {},
   "outputs": [],
   "source": [
    "#Defining class Point\n",
    "class Point:\n",
    "    \"\"\"\n",
    "    Point class to store the x and y coordinate of Point, and various point \n",
    "    based calculations\n",
    "    \"\"\"\n",
    "    \n",
    "    def __init__(self):\n",
    "        \"\"\"\n",
    "        Create a new point at Origin\n",
    "        \"\"\"\n",
    "        self.x_coord = 0\n",
    "        self.y_coord = 0\n",
    "    "
   ]
  },
  {
   "cell_type": "markdown",
   "id": "c7ba877c",
   "metadata": {},
   "source": [
    "### 2.2 constructor __init__ method\n",
    "\n",
    "When we define a class, we should also specify the initializer method of the class also referred to as __constructor__. The constructor is automatically called whenever a new instance of the __Point__ class is created. So using constructors we can set the initial state of the object by passing the initial values of the attributes for that object. These values can than be stored in the instance variables of the object by initialized them in the constructor method.\n",
    "\n",
    "The __self__ parameter name is used a convention and this will automatically hold the refernce to the object that has been instantiated, that way the constructor acts on the instantiated object itself\n",
    "\n",
    "__NOTE:__ It is not mandatory to explicity code the init method, but some initializer method will be called when the object is instantiated. If no initializer method is specified for that class than its parents initializer method will be called. We will understand about __Inheritence__ in further details later"
   ]
  },
  {
   "cell_type": "markdown",
   "id": "b15567ef",
   "metadata": {},
   "source": [
    "### 2.3 Instantiate the Object\n",
    "\n",
    "To instantiate the object we call the Class and store the reference in a variable. Following example highlights the process:"
   ]
  },
  {
   "cell_type": "code",
   "execution_count": 2,
   "id": "57c0bdae",
   "metadata": {},
   "outputs": [],
   "source": [
    "point_p = Point()\n",
    "point_q = Point()"
   ]
  },
  {
   "cell_type": "markdown",
   "id": "ed5b3c41",
   "metadata": {},
   "source": [
    "Well nothing seems to happen by above code declaration. And the reason for that is, this is how our class has been implemented. In the constructor method we are setting the values of the instance variables x and y to value 0, as such all the instances of this class will have the same value of x and y.\n",
    "\n",
    "We can check that as per below code snippet."
   ]
  },
  {
   "cell_type": "code",
   "execution_count": 4,
   "id": "e5d8dc7b",
   "metadata": {},
   "outputs": [
    {
     "name": "stdout",
     "output_type": "stream",
     "text": [
      "The x and y coordinates for point P are: 0, 0\n",
      "The x and y coordinates for point Q are: 0, 0\n"
     ]
    }
   ],
   "source": [
    "print(f\"The x and y coordinates for point P are: {point_p.x_coord}, {point_p.y_coord}\")\n",
    "print(f\"The x and y coordinates for point Q are: {point_q.x_coord}, {point_q.y_coord}\")"
   ]
  },
  {
   "cell_type": "markdown",
   "id": "2e31a672",
   "metadata": {},
   "source": [
    "If you observe both the points P and Q have the same values of x and y coordinates stored in them. We can change this behaviour by passing the x and y coordinates at the time of creating this object (i.e. instanting these objects) and adjusting the constructore method to store the passed values in the instance variables.\n",
    "\n",
    "Also observe that to access the value stored in the instance variable we have used the DOT NOTATION to refer to the instance variable defined in the class. So the convention is:\n",
    "\n",
    "__<object_reference> . <instance_variable_name>__\n",
    "\n"
   ]
  },
  {
   "cell_type": "markdown",
   "id": "6d434622",
   "metadata": {},
   "source": [
    "### 2.4 Add parameters to constructor\n",
    "Let's now update the constructor to store the x and y coordinates at the time of instantiation. The revised class definiton will look as follows, we have just added print statements for verbose purposes so that we can see what is happening when the class is instantiated"
   ]
  },
  {
   "cell_type": "code",
   "execution_count": 9,
   "id": "2787bddf",
   "metadata": {},
   "outputs": [],
   "source": [
    "#Revised class Point\n",
    "class Point:\n",
    "    \"\"\"\n",
    "    Point class to store the x and y coordinate of Point, and various point \n",
    "    based calculations\n",
    "    \"\"\"\n",
    "    \n",
    "    def __init__(self, x, y):\n",
    "        \"\"\"\n",
    "        Create a new point at Origin\n",
    "        \"\"\"\n",
    "        self.x_coord = x\n",
    "        self.y_coord = y\n",
    "        print(f\"A new object of type Point has been created and stored at {id(self)}.\")\n",
    "        print(f\"The values of x and y coordinates are: {self.x_coord}, {self.y_coord}\")\n"
   ]
  },
  {
   "cell_type": "code",
   "execution_count": 10,
   "id": "a4d8e44c",
   "metadata": {},
   "outputs": [
    {
     "name": "stdout",
     "output_type": "stream",
     "text": [
      "A new object of type Point has been created and stored at 2741659256016.\n",
      "The values of x and y coordinates are: 3, 4\n"
     ]
    }
   ],
   "source": [
    "p = Point(3,4)"
   ]
  },
  {
   "cell_type": "code",
   "execution_count": 11,
   "id": "a5dec51d",
   "metadata": {},
   "outputs": [
    {
     "name": "stdout",
     "output_type": "stream",
     "text": [
      "A new object of type Point has been created and stored at 2741672970384.\n",
      "The values of x and y coordinates are: 4, 5\n"
     ]
    }
   ],
   "source": [
    "q = Point(4,5)"
   ]
  },
  {
   "cell_type": "markdown",
   "id": "d497c995",
   "metadata": {},
   "source": [
    "Observe that the values of x and y coordinates are different for the two points that has been created. Also observe that the memory address which the variables p and q refers to are different, which means that these are two different Point objects stored at seperate memory location"
   ]
  },
  {
   "cell_type": "code",
   "execution_count": null,
   "id": "2ffc9b4f",
   "metadata": {},
   "outputs": [],
   "source": []
  }
 ],
 "metadata": {
  "kernelspec": {
   "display_name": "Python 3 (ipykernel)",
   "language": "python",
   "name": "python3"
  },
  "language_info": {
   "codemirror_mode": {
    "name": "ipython",
    "version": 3
   },
   "file_extension": ".py",
   "mimetype": "text/x-python",
   "name": "python",
   "nbconvert_exporter": "python",
   "pygments_lexer": "ipython3",
   "version": "3.11.3"
  }
 },
 "nbformat": 4,
 "nbformat_minor": 5
}
